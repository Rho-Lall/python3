{
 "cells": [
  {
   "cell_type": "markdown",
   "metadata": {},
   "source": [
    "# Lists"
   ]
  },
  {
   "cell_type": "markdown",
   "metadata": {},
   "source": [
    "List = [,]\n",
    "A list is a mutable sequence.\n",
    "lists always have an implied index starting with 0.\n"
   ]
  },
  {
   "cell_type": "code",
   "execution_count": 1,
   "metadata": {},
   "outputs": [],
   "source": [
    "my_list = [1,2,3,4,5]"
   ]
  },
  {
   "cell_type": "code",
   "execution_count": 2,
   "metadata": {},
   "outputs": [
    {
     "data": {
      "text/plain": [
       "5"
      ]
     },
     "execution_count": 2,
     "metadata": {},
     "output_type": "execute_result"
    }
   ],
   "source": [
    "my_list[-1]"
   ]
  },
  {
   "cell_type": "code",
   "execution_count": 4,
   "metadata": {},
   "outputs": [
    {
     "data": {
      "text/plain": [
       "[4, 5]"
      ]
     },
     "execution_count": 4,
     "metadata": {},
     "output_type": "execute_result"
    }
   ],
   "source": [
    "my_list[-2:]"
   ]
  },
  {
   "cell_type": "markdown",
   "metadata": {},
   "source": [
    " ## Methods\n",
    " \n",
    " #### Selection\n",
    " Slice: list[first_index: last_index: step]\n",
    "        list[first_index:]  \t\t\n",
    "        list[: last_index]\n",
    "                                    | lists not the same as ranges: range(:last_index) doesn’t work. \n",
    "\n",
    "#### Add Values\n",
    "'+'\t\t    | new_orders = orders + ['lilac', 'iris']\n",
    ".append()\t| adds an element to the end of the list.    \n",
    ".extend()\t| allows you to append the items of another list as individual members of the original list\n",
    "\n",
    "#### Modify values\n",
    "list[idx] = new_value\n",
    "\n",
    "#### Remove Values\n",
    ".pop()\t\t|by default, removes the last item of the list. You can specify the index to remove.\n",
    "\n",
    "#### Operations\n",
    "\n",
    ".count(‘n_elements’) \t\t\t\t| counts number of n_elements in a list.\n",
    "\n",
    ".reverse()\n",
    "\n",
    ".index(‘string2search4’)\t| returns the index location of the searchString\n",
    "\n",
    ".sort()\n",
    "\n",
    "\n",
    "\n"
   ]
  },
  {
   "cell_type": "markdown",
   "metadata": {},
   "source": [
    "## Functions\n",
    "\n",
    "sorted()"
   ]
  },
  {
   "cell_type": "markdown",
   "metadata": {},
   "source": [
    "## Nested \n",
    "\n",
    "Nested lists are lists within list."
   ]
  },
  {
   "cell_type": "markdown",
   "metadata": {},
   "source": [
    "You can call the item of an nested list\n"
   ]
  },
  {
   "cell_type": "code",
   "execution_count": 3,
   "metadata": {},
   "outputs": [
    {
     "data": {
      "text/plain": [
       "3"
      ]
     },
     "execution_count": 3,
     "metadata": {},
     "output_type": "execute_result"
    }
   ],
   "source": [
    "nested_list = [['first','second', 'third'], [1,2,3]]\n",
    "nested_list[1][2]"
   ]
  },
  {
   "cell_type": "markdown",
   "metadata": {},
   "source": [
    "## List Comprehension"
   ]
  },
  {
   "cell_type": "markdown",
   "metadata": {},
   "source": [
    "Loops that create new lists, called list comprehensions.\n",
    "\n",
    "New_variable = [output for input in list if condition]\n",
    "\n",
    "Usernames = [word for word in words if condition]\n",
    "\n",
    "This is analogous to:\n",
    "\n",
    "    for word in words:\n",
    "        If <condition>:\n",
    "            usernames.append(word)\t"
   ]
  },
  {
   "cell_type": "markdown",
   "metadata": {},
   "source": [
    "messages = [user + \" please follow me!\" for user in usernames]\t| You can customize the output. \n",
    "\n",
    "New_list = [base**power for base in bases for power in powers]\t| nested list comprehension."
   ]
  }
 ],
 "metadata": {
  "kernelspec": {
   "display_name": "Python 3",
   "language": "python",
   "name": "python3"
  },
  "language_info": {
   "codemirror_mode": {
    "name": "ipython",
    "version": 3
   },
   "file_extension": ".py",
   "mimetype": "text/x-python",
   "name": "python",
   "nbconvert_exporter": "python",
   "pygments_lexer": "ipython3",
   "version": "3.7.3"
  }
 },
 "nbformat": 4,
 "nbformat_minor": 2
}
