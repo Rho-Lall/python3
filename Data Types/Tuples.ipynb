{
 "cells": [
  {
   "cell_type": "markdown",
   "metadata": {},
   "source": [
    "# Tuples "
   ]
  },
  {
   "cell_type": "markdown",
   "metadata": {},
   "source": [
    "Tuple = ()\n",
    "\n",
    "Tuple = (1, [ ‘two’ ] )\n",
    "\n",
    "Slicing and indexing works the same as a list.\n",
    "\n",
    "- Indexable\n",
    "- Immutable\n",
    "- Paired Values\n",
    "- Tuple Unpacking"
   ]
  },
  {
   "cell_type": "code",
   "execution_count": 11,
   "metadata": {},
   "outputs": [],
   "source": [
    "nums = [1,2,3,4,5]\n",
    "lions = ['black', 'red', 'green', 'blue', 'yellow', 'pink']\n",
    "palidines = ['Keith', 'Lance', 'Pidge', 'Hunk', 'Allura']"
   ]
  },
  {
   "cell_type": "markdown",
   "metadata": {},
   "source": [
    "# Functions"
   ]
  },
  {
   "cell_type": "markdown",
   "metadata": {},
   "source": [
    "### Zipping & Unpacking\n",
    "\n",
    "- zip()\n",
    "- enumerate()"
   ]
  },
  {
   "cell_type": "markdown",
   "metadata": {},
   "source": [
    "#### Zip()\n",
    "The zip() function returns a list of tuples containing one element from each list passed into zip()."
   ]
  },
  {
   "cell_type": "code",
   "execution_count": 46,
   "metadata": {},
   "outputs": [
    {
     "data": {
      "text/plain": [
       "<zip at 0x265207b63c8>"
      ]
     },
     "execution_count": 46,
     "metadata": {},
     "output_type": "execute_result"
    }
   ],
   "source": [
    "zip_list = zip(palidines, lions)\n",
    "zip_list"
   ]
  },
  {
   "cell_type": "code",
   "execution_count": 31,
   "metadata": {},
   "outputs": [
    {
     "data": {
      "text/plain": [
       "(('Keith', 'black'),\n",
       " ('Lance', 'red'),\n",
       " ('Pidge', 'green'),\n",
       " ('Hunk', 'blue'),\n",
       " ('Allura', 'yellow'))"
      ]
     },
     "execution_count": 31,
     "metadata": {},
     "output_type": "execute_result"
    }
   ],
   "source": [
    "tup_list = tuple(zip_list)\n",
    "tup_list"
   ]
  },
  {
   "cell_type": "code",
   "execution_count": 32,
   "metadata": {},
   "outputs": [
    {
     "data": {
      "text/plain": [
       "'red'"
      ]
     },
     "execution_count": 32,
     "metadata": {},
     "output_type": "execute_result"
    }
   ],
   "source": [
    "tup_list[1][1]"
   ]
  },
  {
   "cell_type": "markdown",
   "metadata": {},
   "source": [
    "#### Enumerate()\n",
    "\n",
    "Enumerate is used to loop (iterate) thru a list to return the (index, value) of a each item."
   ]
  },
  {
   "cell_type": "code",
   "execution_count": 44,
   "metadata": {},
   "outputs": [
    {
     "name": "stdout",
     "output_type": "stream",
     "text": [
      "0. Keith pilots the black lion.\n",
      "1. Lance pilots the red lion.\n",
      "2. Pidge pilots the green lion.\n",
      "3. Hunk pilots the blue lion.\n",
      "4. Allura pilots the yellow lion.\n"
     ]
    }
   ],
   "source": [
    "for idx, item in enumerate(tup_list):\n",
    "    rider, color = item\n",
    "    print(\"{}. {} pilots the {} lion.\".format(idx,rider,color))\n"
   ]
  },
  {
   "cell_type": "markdown",
   "metadata": {},
   "source": [
    "## Tuple Unpacking"
   ]
  },
  {
   "cell_type": "code",
   "execution_count": 39,
   "metadata": {},
   "outputs": [
    {
     "name": "stdout",
     "output_type": "stream",
     "text": [
      "Keith rides the black lion.\n"
     ]
    }
   ],
   "source": [
    "leader, lead_lion = tup_list[0]\n",
    "\n",
    "print(\"{} rides the {} lion.\".format(leader,lead_lion))"
   ]
  },
  {
   "cell_type": "code",
   "execution_count": 40,
   "metadata": {},
   "outputs": [
    {
     "name": "stdout",
     "output_type": "stream",
     "text": [
      "Keith rides the black lion.\n",
      "Lance rides the red lion.\n",
      "Pidge rides the green lion.\n",
      "Hunk rides the blue lion.\n",
      "Allura rides the yellow lion.\n"
     ]
    }
   ],
   "source": [
    "for pal, color in tup_list:\n",
    "    print(\"{} rides the {} lion.\".format(pal,color))\n",
    "    "
   ]
  }
 ],
 "metadata": {
  "kernelspec": {
   "display_name": "Python 3",
   "language": "python",
   "name": "python3"
  },
  "language_info": {
   "codemirror_mode": {
    "name": "ipython",
    "version": 3
   },
   "file_extension": ".py",
   "mimetype": "text/x-python",
   "name": "python",
   "nbconvert_exporter": "python",
   "pygments_lexer": "ipython3",
   "version": "3.7.3"
  }
 },
 "nbformat": 4,
 "nbformat_minor": 2
}
